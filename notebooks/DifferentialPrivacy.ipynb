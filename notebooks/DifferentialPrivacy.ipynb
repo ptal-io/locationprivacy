{
 "cells": [
  {
   "cell_type": "markdown",
   "id": "cb3bf396",
   "metadata": {},
   "source": [
    "# Differential Privacy\n",
    "\n",
    "*Author: Grant McKenzie [grant.mckenzie@mcgill.ca | https://grantmckenzie.com]*\n",
    "\n",
    "This tutorial presents an introduction to differential privacy, a mathematical framework for ensuring the privacy of individuals or records in datasets.  Through this tutorial we will explore differential privacy applied to our micromobility trip dataset."
   ]
  },
  {
   "cell_type": "markdown",
   "id": "76cb5a0f",
   "metadata": {},
   "source": [
    "## Modules\n",
    "\n",
    "First, we require a number of python modules in order to run this tutorial.  We will use `pandas` for handling all of our data, `matplotlib` for our plotting, and `PyDP` for all of our Differential Privacy functions."
   ]
  },
  {
   "cell_type": "code",
   "execution_count": 125,
   "id": "3bb1a802",
   "metadata": {},
   "outputs": [],
   "source": [
    "#Import the Differential Privacy module\n",
    "import pydp as dp \n",
    "from pydp.algorithms.laplacian import BoundedStandardDeviation, BoundedMean, Count, Max\n",
    "\n",
    "# Other important modules for data handling, manipulation, and visualization\n",
    "import pandas as pd\n",
    "import statistics\n",
    "import numpy as np\n",
    "import matplotlib.pyplot as plt"
   ]
  },
  {
   "cell_type": "markdown",
   "id": "2475634f",
   "metadata": {},
   "source": [
    "## Data\n",
    "\n",
    "Let's load some data.  Our dataset for this tutorial is a sample of 1000 points.  These points are the origins of e-scooter trips in the Brussels, Belgium.  We will read the CSV into a dataframe using `pandas`."
   ]
  },
  {
   "cell_type": "code",
   "execution_count": 126,
   "id": "8d5ba85c",
   "metadata": {
    "scrolled": true
   },
   "outputs": [
    {
     "data": {
      "text/html": [
       "<div>\n",
       "<style scoped>\n",
       "    .dataframe tbody tr th:only-of-type {\n",
       "        vertical-align: middle;\n",
       "    }\n",
       "\n",
       "    .dataframe tbody tr th {\n",
       "        vertical-align: top;\n",
       "    }\n",
       "\n",
       "    .dataframe thead th {\n",
       "        text-align: right;\n",
       "    }\n",
       "</style>\n",
       "<table border=\"1\" class=\"dataframe\">\n",
       "  <thead>\n",
       "    <tr style=\"text-align: right;\">\n",
       "      <th></th>\n",
       "      <th>Plate</th>\n",
       "      <th>Latitude</th>\n",
       "      <th>Longitude</th>\n",
       "      <th>Timestamp</th>\n",
       "      <th>Duration</th>\n",
       "      <th>Distance</th>\n",
       "    </tr>\n",
       "  </thead>\n",
       "  <tbody>\n",
       "    <tr>\n",
       "      <th>0</th>\n",
       "      <td>BWN768</td>\n",
       "      <td>50.824148</td>\n",
       "      <td>4.359832</td>\n",
       "      <td>1561592243</td>\n",
       "      <td>366</td>\n",
       "      <td>1141</td>\n",
       "    </tr>\n",
       "    <tr>\n",
       "      <th>1</th>\n",
       "      <td>QCJ420</td>\n",
       "      <td>50.813293</td>\n",
       "      <td>4.348033</td>\n",
       "      <td>1561592132</td>\n",
       "      <td>477</td>\n",
       "      <td>822</td>\n",
       "    </tr>\n",
       "    <tr>\n",
       "      <th>2</th>\n",
       "      <td>RIY668</td>\n",
       "      <td>50.794780</td>\n",
       "      <td>4.416102</td>\n",
       "      <td>1561592063</td>\n",
       "      <td>837</td>\n",
       "      <td>4118</td>\n",
       "    </tr>\n",
       "    <tr>\n",
       "      <th>3</th>\n",
       "      <td>BYD553</td>\n",
       "      <td>50.848658</td>\n",
       "      <td>4.393357</td>\n",
       "      <td>1561593088</td>\n",
       "      <td>294</td>\n",
       "      <td>1199</td>\n",
       "    </tr>\n",
       "    <tr>\n",
       "      <th>4</th>\n",
       "      <td>HIL845</td>\n",
       "      <td>50.832895</td>\n",
       "      <td>4.441163</td>\n",
       "      <td>1561592421</td>\n",
       "      <td>1149</td>\n",
       "      <td>2422</td>\n",
       "    </tr>\n",
       "  </tbody>\n",
       "</table>\n",
       "</div>"
      ],
      "text/plain": [
       "    Plate   Latitude  Longitude   Timestamp  Duration  Distance\n",
       "0  BWN768  50.824148   4.359832  1561592243       366      1141\n",
       "1  QCJ420  50.813293   4.348033  1561592132       477       822\n",
       "2  RIY668  50.794780   4.416102  1561592063       837      4118\n",
       "3  BYD553  50.848658   4.393357  1561593088       294      1199\n",
       "4  HIL845  50.832895   4.441163  1561592421      1149      2422"
      ]
     },
     "execution_count": 126,
     "metadata": {},
     "output_type": "execute_result"
    }
   ],
   "source": [
    "trip_origins = pd.read_csv(\"../data/Brussels_Jump1000.csv\")\n",
    "\n",
    "# For simplicity, lets round all of our Distance to the nearest metre (integers are easier to deal with than floats)\n",
    "trip_origins.Distance = round(trip_origins.Distance).astype(int)\n",
    "\n",
    "# Look at the first few records of the dataset.\n",
    "trip_origins.head()"
   ]
  },
  {
   "cell_type": "markdown",
   "id": "74626079",
   "metadata": {},
   "source": [
    "Let's take a look at the trip distances using a histogram.  Note the outliers.  These will be important later."
   ]
  },
  {
   "cell_type": "code",
   "execution_count": 127,
   "id": "b37858ee",
   "metadata": {},
   "outputs": [
    {
     "data": {
      "image/png": "[encoded data removed]",
      "text/plain": [
       "<Figure size 432x288 with 1 Axes>"
      ]
     },
     "metadata": {
      "needs_background": "light"
     },
     "output_type": "display_data"
    }
   ],
   "source": [
    "# Number of bins for the histogram\n",
    "num_bins = 50    \n",
    "\n",
    "# Set up the plot containers\n",
    "fig, ax = plt.subplots()\n",
    "\n",
    "# the histogram of the data\n",
    "n, bins, patches = ax.hist(trip_origins.Distance, num_bins, density=True)\n",
    "\n",
    "# Lables\n",
    "ax.set_xlabel('Metres')\n",
    "ax.set_ylabel('Probability density')\n",
    "ax.set_title(r'Histogram of Trip Distances')\n",
    "\n",
    "# Show it\n",
    "plt.show()"
   ]
  },
  {
   "cell_type": "markdown",
   "id": "c757e687",
   "metadata": {},
   "source": [
    "## Original vs. Private Statistics\n",
    "\n",
    "Differential Privacy is designed to add noise to your dataset such that you would not be able to identify a difference between two datasets, one with the full data, and one with a single record removed.  To start, let's see what differential privacy does when calculating the mean trip distance from our dataset."
   ]
  },
  {
   "cell_type": "code",
   "execution_count": 128,
   "id": "ab27298f",
   "metadata": {},
   "outputs": [],
   "source": [
    "# Basic function to calculate the real mean of our trip distances\n",
    "def true_mean() -> float:\n",
    "    return statistics.mean(list(trip_origins.Distance))"
   ]
  },
  {
   "cell_type": "markdown",
   "id": "696af249",
   "metadata": {},
   "source": [
    "This next function is designed to calculate the differentially private mean of our trip distances.  Note that this takes in a 'privacy budget' parameter.  This is a value between 0 and 1 with 0 indicating that the method should not give up any private information.  In practice, you need to provide a value larger than 0 for this to be useful.  The other parameters are here and worth exploring: https://pydp.readthedocs.io/en/latest/pydp.html"
   ]
  },
  {
   "cell_type": "code",
   "execution_count": 129,
   "id": "5bbebd62",
   "metadata": {},
   "outputs": [],
   "source": [
    "def private_mean(privacy_budget: float) -> float:\n",
    "    x = BoundedMean(privacy_budget, 0, 1, 10000)\n",
    "    return x.quick_result(list(trip_origins.Distance))"
   ]
  },
  {
   "cell_type": "markdown",
   "id": "c25206aa",
   "metadata": {},
   "source": [
    "See the values of 1 and 10000 in the code above? These are the lower and upper bounds the differential privacy module uses when calculating the mean.  These really should be the minimum trip distance and maximum trip distance, respectively.  Changing these will have an impact on the output of your analysis though.  What might that impact be?"
   ]
  },
  {
   "cell_type": "code",
   "execution_count": 130,
   "id": "648fc9cf",
   "metadata": {},
   "outputs": [
    {
     "data": {
      "text/plain": [
       "9540"
      ]
     },
     "execution_count": 130,
     "metadata": {},
     "output_type": "execute_result"
    }
   ],
   "source": [
    "max(trip_origins.Distance)"
   ]
  },
  {
   "cell_type": "markdown",
   "id": "e64c36e9",
   "metadata": {},
   "source": [
    "Go up to the `private_mean()` function and change the value of 10000 to the real max of the dataset."
   ]
  },
  {
   "cell_type": "code",
   "execution_count": 131,
   "id": "47f39354",
   "metadata": {},
   "outputs": [
    {
     "name": "stdout",
     "output_type": "stream",
     "text": [
      "Real Mean:  1960.359\n",
      "Private Mean:  1941.1108696400643\n"
     ]
    }
   ],
   "source": [
    "print(\"Real Mean: \", true_mean())\n",
    "print(\"Private Mean: \", private_mean(1))"
   ]
  },
  {
   "cell_type": "markdown",
   "id": "3531380d",
   "metadata": {},
   "source": [
    "Re-run the code above a few times.  What happened?  Why is this important?"
   ]
  },
  {
   "cell_type": "markdown",
   "id": "975f5078",
   "metadata": {},
   "source": [
    "Let's introduce a threshold.  How many trips in the dataset where greater than 5000 metres in length?"
   ]
  },
  {
   "cell_type": "code",
   "execution_count": 132,
   "id": "5c22ff4b",
   "metadata": {},
   "outputs": [],
   "source": [
    "def true_count_above(limit: int) -> int:\n",
    "    return trip_origins[trip_origins.Distance > limit].count()[0]\n",
    "\n",
    "def private_count_above(privacy_budget: float, limit: int) -> int:\n",
    "    x = Count(privacy_budget, dtype=\"int\")\n",
    "    return x.quick_result(list(trip_origins[trip_origins.Distance > limit][\"Distance\"]))"
   ]
  },
  {
   "cell_type": "markdown",
   "id": "9d2d3963",
   "metadata": {},
   "source": [
    "Run the code below, note the results, then change the privacy budget to a value less than 1, and run it again."
   ]
  },
  {
   "cell_type": "code",
   "execution_count": 133,
   "id": "02f71284",
   "metadata": {},
   "outputs": [
    {
     "name": "stdout",
     "output_type": "stream",
     "text": [
      "Above 5000:\t40\n",
      "DP Count Above 5000:\t39\n"
     ]
    }
   ],
   "source": [
    "print(\"Above 5000:\\t\" + str(true_count_above(5000)))\n",
    "print(\"DP Count Above 5000:\\t\" + str(private_count_above(1, 5000)))"
   ]
  },
  {
   "cell_type": "markdown",
   "id": "a209764f",
   "metadata": {},
   "source": [
    "Next, we can do the same analysis but for the 'standard deviation' of trip distances in the dataset"
   ]
  },
  {
   "cell_type": "code",
   "execution_count": 134,
   "id": "528897a6",
   "metadata": {},
   "outputs": [],
   "source": [
    "def true_sd() -> float:\n",
    "    return statistics.stdev(list(trip_origins.Distance))\n",
    "\n",
    "def private_sd(privacy_budget: float) -> float:\n",
    "    x = BoundedStandardDeviation(privacy_budget, 0, 1, 10000)\n",
    "    return x.quick_result(list(trip_origins.Distance))"
   ]
  },
  {
   "cell_type": "markdown",
   "id": "8359a5f2",
   "metadata": {},
   "source": [
    "Run the code below, note the results, then change the privacy budget to a value less than 1, and run it again."
   ]
  },
  {
   "cell_type": "code",
   "execution_count": 139,
   "id": "5457943d",
   "metadata": {},
   "outputs": [
    {
     "name": "stdout",
     "output_type": "stream",
     "text": [
      "True Standard Deviation:\t1360.8547188016378\n",
      "Private Standard Deviation:\t1260.0815517309522\n"
     ]
    }
   ],
   "source": [
    "print(\"True Standard Deviation:\\t\" + str(true_sd()))\n",
    "print(\"Private Standard Deviation:\\t\" + str(private_sd(1)))"
   ]
  },
  {
   "cell_type": "markdown",
   "id": "a51b979b",
   "metadata": {},
   "source": [
    "Finally, we can do the same analysis but for the `max` trip distances in the dataset.  This is where it gets a bit more interesting.  Descriptive statistics like mean and count consider the entire dataset but when we deal with stats like max or min, we are pulling out a very specific part of our dataset.  If you have outliers in your data this can make it very difficult for a differential privacy approach to produce reasonable results.  Why is that?"
   ]
  },
  {
   "cell_type": "code",
   "execution_count": 109,
   "id": "0c5d7c14",
   "metadata": {},
   "outputs": [],
   "source": [
    "def true_max() -> int:\n",
    "    return max(list(trip_origins.Distance))\n",
    "\n",
    "def private_max(privacy_budget: float) -> int:\n",
    "    x = Max(epsilon = privacy_budget, lower_bound = 0, upper_bound = 10000, dtype=\"int\")\n",
    "    return x.quick_result(list(trip_origins.Distance))"
   ]
  },
  {
   "cell_type": "markdown",
   "id": "9b1c2e1f",
   "metadata": {},
   "source": [
    "Run the code below, note the results, then change the privacy budget to a value less than 1, and run it again."
   ]
  },
  {
   "cell_type": "code",
   "execution_count": 111,
   "id": "5400ec81",
   "metadata": {},
   "outputs": [
    {
     "name": "stdout",
     "output_type": "stream",
     "text": [
      "True max:\t9540\n",
      "Private max:\t4412\n"
     ]
    }
   ],
   "source": [
    "print(\"True max:\\t\" + str(nondp_max()))\n",
    "print(\"Private max:\\t\" + str(private_max(1)))"
   ]
  },
  {
   "cell_type": "markdown",
   "id": "c0993b38",
   "metadata": {},
   "source": [
    "## Visualize\n",
    "Lastly, I find it useful to visualize some of these data to see the differences between the original and the differentially private dataset."
   ]
  },
  {
   "cell_type": "code",
   "execution_count": 146,
   "id": "0d26f13d",
   "metadata": {},
   "outputs": [
    {
     "data": {
      "image/png": "[encoded data removed]",
      "text/plain": [
       "<Figure size 1080x720 with 1 Axes>"
      ]
     },
     "metadata": {
      "needs_background": "light"
     },
     "output_type": "display_data"
    }
   ],
   "source": [
    " # Numbers of pairs of bars you want\n",
    "N = 3\n",
    "\n",
    "# Specify the values of true data - blue bars (height)\n",
    "blue_bar = (true_mean(),true_sd(), true_max())\n",
    "# Specify the values of privatized data - orange bars (height)\n",
    "orange_bar = (private_mean(1),private_sd(1), private_max(1))\n",
    "\n",
    "# Position of bars on x-axis\n",
    "ind = np.arange(N)\n",
    "\n",
    "# Figure size\n",
    "plt.figure(figsize=(15,10))\n",
    "\n",
    "# Width of a bar \n",
    "width = 0.3       \n",
    "\n",
    "# Plotting\n",
    "plt.bar(ind, blue_bar , width, label='Original Data')\n",
    "plt.bar(ind + width, orange_bar, width, label='Data with Differential Privacy')\n",
    "\n",
    "plt.xlabel('Statistics')\n",
    "plt.ylabel('Distance (m)')\n",
    "plt.title('Comparing Original and DP statistics')\n",
    "\n",
    "# First argument - A list of positions at which ticks should be placed\n",
    "# Second argument -  A list of labels to place at the given locations\n",
    "plt.xticks(ind + width / 2, ('Mean', 'Standard Deviation', 'Max'))\n",
    "\n",
    "# Place the legend\n",
    "plt.legend(loc='best')\n",
    "plt.show()"
   ]
  },
  {
   "cell_type": "markdown",
   "id": "d01078ef",
   "metadata": {},
   "source": [
    "### The End"
   ]
  },
  {
   "cell_type": "code",
   "execution_count": null,
   "id": "424d7c77",
   "metadata": {},
   "outputs": [],
   "source": []
  }
 ],
 "metadata": {
  "kernelspec": {
   "display_name": "Python 3",
   "language": "python",
   "name": "python3"
  },
  "language_info": {
   "codemirror_mode": {
    "name": "ipython",
    "version": 3
   },
   "file_extension": ".py",
   "mimetype": "text/x-python",
   "name": "python",
   "nbconvert_exporter": "python",
   "pygments_lexer": "ipython3",
   "version": "3.8.10"
  }
 },
 "nbformat": 4,
 "nbformat_minor": 5
}
