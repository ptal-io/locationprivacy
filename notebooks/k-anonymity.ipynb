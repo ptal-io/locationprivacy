{
 "cells": [
  {
   "cell_type": "markdown",
   "id": "e36a3003",
   "metadata": {},
   "source": [
    "# *k*-anonymity\n",
    "\n",
    "\n",
    "*Author: Grant McKenzie [grant.mckenzie@mcgill.ca | https://grantmckenzie.com]*\n",
    "\n",
    "This tutorial presents an introduction to (spatial) k-anonymity, a data anonymization technique that is used to protect individuals' privacy in a dataset.  Through this tutorial we will explore both non-spatial and spatial k-anonymity."
   ]
  },
  {
   "cell_type": "markdown",
   "id": "f3cd2a36",
   "metadata": {},
   "source": [
    "## Modules\n",
    "\n",
    "First, we require a number of python modules in order to run this tutorial.  We will use `GeoPandas` for handling all of our geospatial objects, `Shapely` for our geometries, and `Folium` for interactive geovisualization."
   ]
  },
  {
   "cell_type": "code",
   "execution_count": null,
   "id": "01b19c24",
   "metadata": {},
   "outputs": [],
   "source": [
    "# These will do the heavy lifting\n",
    "import geopandas as gpd\n",
    "import shapely as shp\n",
    "import folium\n",
    "\n",
    "# These are important for a few small tasks\n",
    "import pandas as pd"
   ]
  },
  {
   "cell_type": "markdown",
   "id": "9075b841",
   "metadata": {},
   "source": [
    "## Data\n",
    "\n",
    "Let's load some data. Our dataset for this tutorial is a sample of 100 points. These points are the origins of e-scooter trips in the Brussels, Belgium. We will read the CSV into a dataframe using pandas."
   ]
  },
  {
   "cell_type": "code",
   "execution_count": null,
   "id": "f8758fbe",
   "metadata": {},
   "outputs": [],
   "source": [
    "trip_origins = pd.read_csv('/home/grantmckenzie/Dropbox/LISER_GeoPrivacy_Workshop/Brussels_Jump100.csv')"
   ]
  },
  {
   "cell_type": "markdown",
   "id": "1c8c63fa",
   "metadata": {},
   "source": [
    "Take a look at the first few records in the dataset."
   ]
  },
  {
   "cell_type": "code",
   "execution_count": null,
   "id": "14211ce1",
   "metadata": {},
   "outputs": [],
   "source": [
    "trip_origins.head()"
   ]
  },
  {
   "cell_type": "markdown",
   "id": "b5859dc6",
   "metadata": {},
   "source": [
    "Note that this data includes columns `Gender` and `Age.` We will use these as our pseudo-sensative attributes.  Let's start by seeing how distinctive these two columns are in combination.  For instance, how many 23 year old males are in the dataset?"
   ]
  },
  {
   "cell_type": "code",
   "execution_count": null,
   "id": "828e9f7e",
   "metadata": {
    "scrolled": true
   },
   "outputs": [],
   "source": [
    "trip_origins.groupby(['Age','Gender']).size().reset_index(name='Count')"
   ]
  },
  {
   "cell_type": "markdown",
   "id": "7dec7b1b",
   "metadata": {},
   "source": [
    "It looks like there are a total of four 23 year old males in the dataset.  If you identify as a 23 year old male with a record in this dataset, then we would say this dataset has a `k = 4` for you.  On the other hand, if you identify as a 25 year old female, this view of the dataset does not preserve your privacy at all.  We can manipulate the data to increase its *k*-anonymity by grouping or \"binning\" the Age attribute."
   ]
  },
  {
   "cell_type": "code",
   "execution_count": null,
   "id": "eb8e8dd3",
   "metadata": {},
   "outputs": [],
   "source": [
    "# Create a new column called Age_Group and bin all ages into four groups.\n",
    "trip_origins['Age_Group'] = pd.cut(df['Age'], bins=4)"
   ]
  },
  {
   "cell_type": "markdown",
   "id": "25886322",
   "metadata": {},
   "source": [
    "Let's see what that does for the *k*-anonymity property of the data."
   ]
  },
  {
   "cell_type": "code",
   "execution_count": null,
   "id": "88cc177e",
   "metadata": {
    "scrolled": true
   },
   "outputs": [],
   "source": [
    "trip_origins.groupby(['Age_Group','Gender']).size().reset_index(name='Count')"
   ]
  },
  {
   "cell_type": "markdown",
   "id": "4c544f81",
   "metadata": {},
   "source": [
    "Let's step back for a moment and approach this from a different perspective.  Let's set a value for *k* and then figure out if our data set meets this requirement."
   ]
  },
  {
   "cell_type": "code",
   "execution_count": null,
   "id": "acde0bda",
   "metadata": {},
   "outputs": [],
   "source": [
    "k = 5\n",
    "\n",
    "# Count number of combinations of these two columns\n",
    "to_count = trip_origins.groupby(['Age_Group','Gender']).size().reset_index(name='Count')\n",
    "\n",
    "# Does that data set meet our requirment for k?\n",
    "to_count[df_count['Count'] < k]"
   ]
  },
  {
   "cell_type": "markdown",
   "id": "ad7df991",
   "metadata": {},
   "source": [
    "Since no results are returned, we can say that our data set is *5*-anonymized."
   ]
  },
  {
   "cell_type": "markdown",
   "id": "48154168",
   "metadata": {},
   "source": [
    "# Individual level spatial *k*-anonymity\n",
    "\n",
    "We will switch gears and take a look at a geospatial approach to *k*-anonymity.  In this example we imagine that our personal trip origin exists in the dataset.  Our trip is `Plate = A1091`."
   ]
  },
  {
   "cell_type": "code",
   "execution_count": null,
   "id": "2e670dfa",
   "metadata": {},
   "outputs": [],
   "source": [
    "me = 'A1091'"
   ]
  },
  {
   "cell_type": "markdown",
   "id": "6318dd07",
   "metadata": {},
   "source": [
    "Let's convert our Latitude and Longitude values to geometries in a GeoDataFrame."
   ]
  },
  {
   "cell_type": "code",
   "execution_count": null,
   "id": "bd2af09e",
   "metadata": {},
   "outputs": [],
   "source": [
    "geometry = gpd.points_from_xy(trip_origins.Longitude, trip_origins.Latitude)\n",
    "trip_origins_geo = gpd.GeoDataFrame(trip_origins, geometry=geometry)\n",
    "trip_origins_geo = trip_origins_geo.set_crs(\"EPSG:4326\")  # Specify our coordinate reference system as WGS84 (lat/lng)\n",
    "\n",
    "trip_origins_geo.head()  # Let's double check to make sure we have a geometry column"
   ]
  },
  {
   "cell_type": "markdown",
   "id": "18055c83",
   "metadata": {},
   "source": [
    "## Visualization\n",
    "Next we will use `folium` to view our data on a map.  We start by loading a blank map."
   ]
  },
  {
   "cell_type": "code",
   "execution_count": null,
   "id": "2ef958bc",
   "metadata": {
    "scrolled": true
   },
   "outputs": [],
   "source": [
    "# set up the basemap with a Latitude, Longitude, Zoom, and Tile type.\n",
    "map = folium.Map(location=[50.83, 4.37],\n",
    "           zoom_start=13,\n",
    "           tiles='CartoDB positron')\n",
    "map"
   ]
  },
  {
   "cell_type": "markdown",
   "id": "7118ec7d",
   "metadata": {},
   "source": [
    "Then we add our points by creating a list of points from our dataset.  We add them as marker in `folium` and include the attribute information in the marker popups.  We will add a conditional statement so that *our* trip origin is given a green marker.  All others will be blue."
   ]
  },
  {
   "cell_type": "code",
   "execution_count": null,
   "id": "f5872f36",
   "metadata": {
    "scrolled": true
   },
   "outputs": [],
   "source": [
    "for i, row in trip_origins_geo.iterrows():\n",
    "    # Place the markers with popups\n",
    "    map.add_child(\n",
    "        folium.Marker(\n",
    "            # The location from latitude and longitude\n",
    "            location=[row.geometry.y, row.geometry.x],\n",
    "            # Conditional statement to set icons (me variable is declared earlier)\n",
    "            icon = folium.Icon(color=\"green\") if row.Plate == me else folium.Icon(color=\"blue\"),\n",
    "            # Pop-up to show Plate (ID)\n",
    "            popup=\"<b>ID</b>: \" + str(trip_origins_geo.Plate[i]),\n",
    "        )\n",
    "    )\n",
    "    i = i + 1\n",
    "\n",
    "map"
   ]
  },
  {
   "cell_type": "markdown",
   "id": "c3dcf8cb",
   "metadata": {},
   "source": [
    "Let's get all the details for *our* trip origin."
   ]
  },
  {
   "cell_type": "code",
   "execution_count": null,
   "id": "03dacb31",
   "metadata": {},
   "outputs": [],
   "source": [
    "me_row = trip_origins_geo.loc[trip_origins_geo['Plate'] == me]"
   ]
  },
  {
   "cell_type": "markdown",
   "id": "abff3e7f",
   "metadata": {},
   "source": [
    "## What are we trying to do?\n",
    "We are trying to anonymize our specific trip origin by reporting a **set** of trip origins rather than our location alone.  The first step in doing this is to calculate the distance between each trip_origin and *our* trip origin."
   ]
  },
  {
   "cell_type": "code",
   "execution_count": null,
   "id": "28afb888",
   "metadata": {},
   "outputs": [],
   "source": [
    "# Empty list for storing all distances\n",
    "distances = []\n",
    "\n",
    "# Loop through all trip origins\n",
    "for i, row in trip_origins_geo.iterrows():\n",
    "    # Calculate the distance between our trip_origin and each trip_origin in our dataset.\n",
    "    # Note that if we actually cared about the distances, we would project our data to a metric projection first.\n",
    "    # In this case we only care about the relative distances so leaving in angular units is fine.\n",
    "    # YOU WILL LIKELY GET A WARNING MESSAGE THOUGH (and rightly so)\n",
    "    dist = me_row.geometry.distance(row.geometry)\n",
    "    # Append the distance to the list\n",
    "    distances.append(float(dist))\n",
    "\n",
    "# Add a new column to our GeoDataFrame that contains all the distances.\n",
    "trip_origins_geo['dist'] = distances\n",
    "\n",
    "trip_origins_geo.head()"
   ]
  },
  {
   "cell_type": "markdown",
   "id": "9329e0b7",
   "metadata": {},
   "source": [
    "Next, we sort our GeoDataFrame based on distance.  Remember that our trip origin will also be in this dataset so the first row should have a distance of 0."
   ]
  },
  {
   "cell_type": "code",
   "execution_count": null,
   "id": "d783704f",
   "metadata": {},
   "outputs": [],
   "source": [
    "sorted = trip_origins_geo.sort_values(by=['dist'])\n",
    "sorted.head()"
   ]
  },
  {
   "cell_type": "markdown",
   "id": "706e28c5",
   "metadata": {},
   "source": [
    "Let's set our value of *k*.  If we set this to 5, that means we want to report 5 trip_origins such that we cannot be differentiated from 4 others.  Then we take the 5 nearest neighbors (which includes our trip origin)."
   ]
  },
  {
   "cell_type": "code",
   "execution_count": null,
   "id": "1388f2d6",
   "metadata": {},
   "outputs": [],
   "source": [
    "k = 5\n",
    "trip_origins_k5 = sorted.head(k)\n",
    "trip_origins_k5.head()"
   ]
  },
  {
   "cell_type": "markdown",
   "id": "e2f8d759",
   "metadata": {},
   "source": [
    "Let's visualize the set of trip_origins you would return if you set your spatial *k* to 5."
   ]
  },
  {
   "cell_type": "code",
   "execution_count": null,
   "id": "88f8cab9",
   "metadata": {
    "scrolled": true
   },
   "outputs": [],
   "source": [
    "map = folium.Map(location=[50.83, 4.37],\n",
    "           zoom_start=15,\n",
    "           tiles='CartoDB positron')\n",
    "\n",
    "for i, row in trip_origins_k5.iterrows():\n",
    "    # Place the markers with popup labels\n",
    "    map.add_child(\n",
    "        folium.Marker(\n",
    "            location=[row.geometry.y, row.geometry.x],\n",
    "            icon = folium.Icon(color=\"green\") if row.Plate == me else folium.Icon(color=\"blue\"),\n",
    "            popup=\"<b>ID</b>: \" + str(trip_origins_geo.Plate[i]),\n",
    "        )\n",
    "    )\n",
    "    i = i + 1\n",
    "\n",
    "map"
   ]
  },
  {
   "cell_type": "markdown",
   "id": "7111f248",
   "metadata": {},
   "source": [
    "Rather than returning a set of point geometries, many prefer to return a polygon that contains these points.  First let's try a `Convex Hull`."
   ]
  },
  {
   "cell_type": "code",
   "execution_count": null,
   "id": "50f172cb",
   "metadata": {
    "scrolled": true
   },
   "outputs": [],
   "source": [
    "# Build a polygon using Shapely functions\n",
    "hull_polygon = trip_origins_k5.geometry.unary_union.convex_hull\n",
    "folium.GeoJson(hull_polygon, style_function=lambda x: {\"fillColor\": \"blue\"}).add_to(map)\n",
    "map"
   ]
  },
  {
   "cell_type": "markdown",
   "id": "99ce2a66",
   "metadata": {},
   "source": [
    "A `Bounding Box` is also an option."
   ]
  },
  {
   "cell_type": "code",
   "execution_count": null,
   "id": "81bff8f3",
   "metadata": {
    "scrolled": true
   },
   "outputs": [],
   "source": [
    "map = folium.Map(location=[50.83, 4.37],\n",
    "           zoom_start=15,\n",
    "           tiles='CartoDB positron')\n",
    "\n",
    "for i, row in trip_origins_k5.iterrows():\n",
    "    # Place the markers with popup labels\n",
    "    map.add_child(\n",
    "        folium.Marker(\n",
    "            location=[row.geometry.y, row.geometry.x],\n",
    "            icon = folium.Icon(color=\"green\") if row.Plate == me else folium.Icon(color=\"blue\"),\n",
    "            popup=\"<b>ID</b>: \" + str(trip_origins_geo.Plate[i]),\n",
    "        )\n",
    "    )\n",
    "    i = i + 1\n",
    "    \n",
    "# BBOX\n",
    "bbox_polygon = trip_origins_k5.geometry.unary_union.envelope\n",
    "folium.GeoJson(bbox_polygon, style_function=lambda x: {\"fillColor\": \"green\"}).add_to(map)\n",
    "map"
   ]
  },
  {
   "cell_type": "markdown",
   "id": "70a466d3",
   "metadata": {},
   "source": [
    "## There is a major privacy issue here\n",
    "\n",
    "From an anonymity perspective, this approach falls victim to a **center-of-anonymized spatial region attack**, where an attacker would assume, given the geometry and centroid, that the actual location of an individual is the center most trip_origin.  To avoid this, many current approaches offset the centroid of the region by taking the\n",
    "*n*<sup>th</sup>-nearest neighbor. \n",
    "\n",
    "Let's choose the 4<sup>th</sup> nearest neighbor as our *focal* point that will be the center of our set and any subsequent geometries."
   ]
  },
  {
   "cell_type": "code",
   "execution_count": null,
   "id": "ce1dc290",
   "metadata": {
    "scrolled": true
   },
   "outputs": [],
   "source": [
    "# Get the 3rd index of our set of 5 nearest (including our trip origin)\n",
    "focal = trip_origins_k5.iloc[[3]]\n",
    "\n",
    "map = folium.Map(location=[50.83, 4.37], zoom_start=15, tiles='CartoDB positron')\n",
    "\n",
    "for i, row in trip_origins_k5.iterrows():\n",
    "    # Place the markers with popup labels\n",
    "    map.add_child(\n",
    "        folium.Marker(\n",
    "            location=[row.geometry.y, row.geometry.x],\n",
    "            icon = folium.Icon(color=\"green\") if row.Plate == me else folium.Icon(color=\"blue\"),\n",
    "            popup=\"<b>ID</b>: \" + str(trip_origins_geo.Plate[i]),\n",
    "        )\n",
    "    )\n",
    "    i = i + 1\n",
    "\n",
    "# Test visualization\n",
    "map.add_child(\n",
    "    folium.Marker(\n",
    "        location=[focal.geometry.y, focal.geometry.x],\n",
    "        # color our focal geometry red\n",
    "        icon = folium.Icon(color=\"red\"),\n",
    "    )\n",
    ")\n",
    "map"
   ]
  },
  {
   "cell_type": "markdown",
   "id": "65816f7f",
   "metadata": {},
   "source": [
    "Then we redo all our previous analysis with this new start location.  Importantly our value of *k* needs to be greater than or equal to *n* (of our n<sup>th</sup>-nearest neighbor.)"
   ]
  },
  {
   "cell_type": "code",
   "execution_count": null,
   "id": "cae916f4",
   "metadata": {},
   "outputs": [],
   "source": [
    "\n",
    "distances = []\n",
    "\n",
    "for i, row in trip_origins_geo.iterrows():\n",
    "    dist = focal.geometry.distance(row.geometry)\n",
    "    distances.append(float(dist))\n",
    "\n",
    "trip_origins_geo['dist_focal'] = distances\n",
    "\n",
    "sorted = trip_origins_geo.sort_values(by=['dist_focal'])\n",
    "\n",
    "trip_origins_k5 = sorted.head(5)\n",
    "\n",
    "map = folium.Map(location=[50.83, 4.37], zoom_start=15, tiles='CartoDB positron')\n",
    "\n",
    "# Show markers on the map.  Our trip origin is in green.\n",
    "for i, row in trip_origins_k5.iterrows():\n",
    "    map.add_child(\n",
    "        folium.Marker(\n",
    "            location=[row.geometry.y, row.geometry.x],\n",
    "            icon = folium.Icon(color=\"green\") if row.Plate == me else folium.Icon(color=\"blue\"),\n",
    "        )\n",
    "    )\n",
    "    i = i + 1\n",
    "\n",
    "# Show our Focal point on the map (red marker)\n",
    "map.add_child(\n",
    "    folium.Marker(\n",
    "        location=[focal.geometry.y, focal.geometry.x],\n",
    "        icon = folium.Icon(color=\"red\"),\n",
    "    )\n",
    ")\n",
    "\n",
    "# Show the Convex Hull\n",
    "hull_polygon = trip_origins_k5.geometry.unary_union.convex_hull\n",
    "folium.GeoJson(hull_polygon, style_function=lambda x: {\"fillColor\": \"blue\"}).add_to(map)\n",
    "\n",
    "map\n"
   ]
  },
  {
   "cell_type": "markdown",
   "id": "ed0545c1",
   "metadata": {},
   "source": [
    "# What if an attacker has some attribute information?\n",
    "\n",
    "This is all well and good assuming everyone is just a point on the map, but what if an attacker has more identifiable information on you.  Say for example, it is known that I am *Female.*  What do we need to do to ensure that my prefered level of *k*-anonymity is preserved?"
   ]
  },
  {
   "cell_type": "code",
   "execution_count": null,
   "id": "690a7229",
   "metadata": {},
   "outputs": [],
   "source": [
    "k = 5\n",
    "\n",
    "# Reset the index \n",
    "sorted = sorted.reset_index(drop=True)\n",
    "\n",
    "counter = 0\n",
    "\n",
    "# Loop through the \"distance\" sorted GeoDataFrame containing trip_origins\n",
    "for i, row in sorted.iterrows():\n",
    "    \n",
    "    # If the e-scooter user's gender is reported as Female, increase the counter\n",
    "    if row.Gender == 'Female':\n",
    "        counter = counter + 1\n",
    "        \n",
    "    # If the counter is equal to k, exit the loop and hold on to the index.\n",
    "    if counter == k:\n",
    "        break\n",
    "\n",
    "trip_origins_k5f = sorted[0:i+1]\n",
    "\n",
    "# Count the number of records\n",
    "len(trip_origins_k5f.index)"
   ]
  },
  {
   "cell_type": "markdown",
   "id": "6e3a5ee0",
   "metadata": {},
   "source": [
    "Wow, so in order to ensure that I cannot be identified in a dataset (from 4 others), and it is known that I am female, I need to report 16 trip_origins. Let's visualize this. We don't need to stop with Gender either... we could redo this analysis for `Age < 30`, for example."
   ]
  },
  {
   "cell_type": "code",
   "execution_count": null,
   "id": "ba4d2134",
   "metadata": {
    "scrolled": true
   },
   "outputs": [],
   "source": [
    "map = folium.Map(location=[50.83, 4.37], zoom_start=14, tiles='CartoDB positron')\n",
    "\n",
    "for i, row in trip_origins_k5f.iterrows():\n",
    "    # Place the markers with popup labels\n",
    "    map.add_child(\n",
    "        folium.Marker(\n",
    "            location=[row.geometry.y, row.geometry.x],\n",
    "            icon = folium.Icon(color=\"green\") if row.Plate == me else folium.Icon(color=\"blue\"),\n",
    "        )\n",
    "    )\n",
    "    i = i + 1\n",
    "\n",
    "hull_polygon = trip_origins_k5f.geometry.unary_union.convex_hull\n",
    "folium.GeoJson(hull_polygon, style_function=lambda x: {\"fillColor\": \"blue\"}).add_to(map)\n",
    "map\n",
    "\n",
    "map.add_child(\n",
    "    folium.Marker(\n",
    "        location=[focal.geometry.y, focal.geometry.x],\n",
    "        icon = folium.Icon(color=\"red\"),\n",
    "    )\n",
    ")\n",
    "\n",
    "map"
   ]
  },
  {
   "cell_type": "markdown",
   "id": "092ed78f",
   "metadata": {},
   "source": [
    "## The End"
   ]
  }
 ],
 "metadata": {
  "kernelspec": {
   "display_name": "Python 3",
   "language": "python",
   "name": "python3"
  },
  "language_info": {
   "codemirror_mode": {
    "name": "ipython",
    "version": 3
   },
   "file_extension": ".py",
   "mimetype": "text/x-python",
   "name": "python",
   "nbconvert_exporter": "python",
   "pygments_lexer": "ipython3",
   "version": "3.8.10"
  }
 },
 "nbformat": 4,
 "nbformat_minor": 5
}
