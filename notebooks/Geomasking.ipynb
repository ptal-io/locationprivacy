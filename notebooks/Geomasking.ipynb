{
 "cells": [
  {
   "cell_type": "markdown",
   "id": "a94d0b8a",
   "metadata": {},
   "source": [
    "# Geomasking\n",
    "\n",
    "*Author: Grant McKenzie [grant.mckenzie@mcgill.ca | https://grantmckenzie.com]*\n",
    "\n",
    "This tutorial presents an introduction to geomasking, an obfuscation technique used for preserving the privacy of geographic data.  Through this tutorial we will explore two forms of geomasking, one using point geometries and the other using buffers."
   ]
  },
  {
   "cell_type": "markdown",
   "id": "9ec39584",
   "metadata": {},
   "source": [
    "## Modules\n",
    "\n",
    "First, we require a number of python modules in order to run this tutorial.  We will use `GeoPandas` for handling all of our geospatial objects, `Shapely` for our geometries, and `Folium` for interactive geovisualization."
   ]
  },
  {
   "cell_type": "code",
   "execution_count": null,
   "id": "fc4bf7b2",
   "metadata": {},
   "outputs": [],
   "source": [
    "# These will do the heavy lifting\n",
    "# Make sure to install the modules if they don't already exist\n",
    "import sys\n",
    "!{sys.executable} -m pip install geopandas\n",
    "!{sys.executable} -m pip install shapely\n",
    "!{sys.executable} -m pip install folium\n",
    "\n",
    "import geopandas as gpd\n",
    "from shapely import Point\n",
    "import folium\n",
    "\n",
    "# These are important for a few small tasks\n",
    "import pandas as pd\n",
    "from datetime import datetime\n",
    "import math\n",
    "import random"
   ]
  },
  {
   "cell_type": "markdown",
   "id": "5b408197",
   "metadata": {},
   "source": [
    "## Data\n",
    "Let's load some data.  Our dataset for this tutorial is a sample of 10 points.  These points are the origins of e-scooter trips in the Brussels, Belgium.  We will read the CSV into a dataframe using `pandas`."
   ]
  },
  {
   "cell_type": "code",
   "execution_count": null,
   "id": "f8257506",
   "metadata": {},
   "outputs": [],
   "source": [
    "trip_origins = pd.read_csv(\"../data/Brussels_Jump10.csv\")"
   ]
  },
  {
   "cell_type": "markdown",
   "id": "0a642fb9",
   "metadata": {},
   "source": [
    "Take a look at the first few records in the dataset."
   ]
  },
  {
   "cell_type": "code",
   "execution_count": null,
   "id": "09d38465",
   "metadata": {},
   "outputs": [],
   "source": [
    "trip_origins.head()"
   ]
  },
  {
   "cell_type": "markdown",
   "id": "d3511442",
   "metadata": {},
   "source": [
    "The current data is not 'spatial,' so lets convert to a GeoDataFrame by converting our latitude and longitude columns to a geometry using `GeoPandas`."
   ]
  },
  {
   "cell_type": "code",
   "execution_count": null,
   "id": "7c90bd35",
   "metadata": {},
   "outputs": [],
   "source": [
    "geometry = gpd.points_from_xy(trip_origins.Longitude, trip_origins.Latitude)\n",
    "trip_origins_geo = gpd.GeoDataFrame(trip_origins, geometry=geometry)\n",
    "trip_origins_geo = trip_origins_geo.set_crs(\"EPSG:4326\")  # Specify our coordinate reference system as WGS84 (lat/lng)\n",
    "\n",
    "trip_origins_geo.head()    # Look at the first few rows."
   ]
  },
  {
   "cell_type": "markdown",
   "id": "227e34bc",
   "metadata": {},
   "source": [
    "## Visualization\n",
    "Next we will use `folium` to view our data on a map.  We start by loading a blank map."
   ]
  },
  {
   "cell_type": "code",
   "execution_count": null,
   "id": "302d08a5",
   "metadata": {
    "scrolled": true
   },
   "outputs": [],
   "source": [
    "# set up the basemap with a Latitude, Longitude, Zoom, and Tile type.\n",
    "map = folium.Map(location=[50.84, 4.39],\n",
    "           zoom_start=13,\n",
    "           tiles='CartoDB positron')\n",
    "map"
   ]
  },
  {
   "cell_type": "markdown",
   "id": "ee504aa1",
   "metadata": {},
   "source": [
    "Then we add our points by creating a list of points from our dataset.  We add them as marker in `folium` and include the attribute information in the marker popups."
   ]
  },
  {
   "cell_type": "code",
   "execution_count": null,
   "id": "312e6db8",
   "metadata": {
    "scrolled": true
   },
   "outputs": [],
   "source": [
    "trip_geom_list = [[point.xy[1][0], point.xy[0][0]] for point in trip_origins_geo.geometry]\n",
    "\n",
    "# Iterate through list and add a marker for each trip origin\n",
    "i = 0\n",
    "\n",
    "for coordinates in trip_geom_list:\n",
    "    # Place the markers with popup labels\n",
    "    map.add_child(\n",
    "        folium.Marker(\n",
    "            location=coordinates,\n",
    "            popup=\"<b>ID</b>: \"\n",
    "            + str(trip_origins_geo.Plate[i])  # Get the license plate column as the ID\n",
    "            + \"<br>\"\n",
    "            + \"<b>Start Time:</b><br/>\"\n",
    "            + str(datetime.fromtimestamp(trip_origins_geo.Timestamp[i]))   # Convert the timestamp to something readable\n",
    "            + \"<br>\"\n",
    "            + \"<b>Distance (m):</b><br/>\"\n",
    "            + str(trip_origins_geo.Distance[i])\n",
    "            + \"<br>\"\n",
    "            + \"<b>Duration (s):</b><br/>\"\n",
    "            + str(trip_origins_geo.Duration[i]),\n",
    "            icon=folium.Icon(color=\"green\")   # Make the Icon green\n",
    "        )\n",
    "    )\n",
    "    i = i + 1\n",
    "\n",
    "map"
   ]
  },
  {
   "cell_type": "markdown",
   "id": "10498b7a",
   "metadata": {},
   "source": [
    "## Basic Buffer\n",
    "One very basic approach to geomasking a point geometry is to simply create a buffer around the point and return the buffer geometry to the user instead of the exact location."
   ]
  },
  {
   "cell_type": "code",
   "execution_count": null,
   "id": "bb3650c9",
   "metadata": {
    "scrolled": true
   },
   "outputs": [],
   "source": [
    "# Specify our Buffer radius in meters\n",
    "buffer = 500\n",
    "\n",
    "# Copy our original trip origins dataset \n",
    "trip_origins_geo_m = trip_origins_geo.copy()\n",
    "\n",
    "# Project the geometry from WGS84 (units: degrees) to Spherical Mercator (units: meters)\n",
    "# Note: Spherical Mercator is not a great option here as it is a global projection and assumes the earth is a Sphere.  \n",
    "# For demo purposes this work work though.  In practice, make sure to choice a region-specific CRS.\n",
    "trip_origins_geo_m.geometry = trip_origins_geo_m.geometry.to_crs(epsg=3857)\n",
    "\n",
    "# Buffer our geometry by the specified buffer amount and update our geometry\n",
    "trip_origins_geo_m.geometry = trip_origins_geo_m.geometry.buffer(buffer)\n",
    "\n",
    "# Reproject our data back to WGS84 (units: degrees) as that is what folium expects.\n",
    "trip_origins_geo_m.geometry = trip_origins_geo_m.geometry.to_crs(epsg=4326)\n",
    "\n",
    "# Loop through each row (object) in our data\n",
    "for i, row in trip_origins_geo_m.iterrows():\n",
    "    \n",
    "    # Create a geoseries and convert to JSON (this is what folium expects)\n",
    "    geo_j = gpd.GeoSeries(row.geometry).to_json()\n",
    "    \n",
    "    # Massage our json object into a GeoJSON object that folium needs and set style\n",
    "    folium_j = folium.GeoJson(data=geo_j, style_function=lambda x: {\"fillColor\": \"green\"})\n",
    "    \n",
    "    # Add the object to the map\n",
    "    folium_j.add_to(map)\n",
    "    \n",
    "# View the map\n",
    "map"
   ]
  },
  {
   "cell_type": "markdown",
   "id": "352abff2",
   "metadata": {},
   "source": [
    "## What is wrong with this?\n",
    "While we did create buffers around our points, it is still quite easy to identify the exact origin location since we know that the circle geometries were generated using a radius from the center point.  Any *attacker* could simply identify the actual locations as the center of each circle.  Let's take care of this.\n",
    "\n",
    "Our first approach will be to generate random point geometries within a specific distance of our actual locations.  We will then replace our known locations with these random locations when sharing our data.  The assumption here is that the random points will be at a distance from the original point that preserves our privacy, but not so much that it makes the data completely useless.  There is a trade off.\n",
    "\n",
    "We will start by writing a function that generates a random point given an existing point and a maximum radius."
   ]
  },
  {
   "cell_type": "code",
   "execution_count": null,
   "id": "6eb43b70",
   "metadata": {},
   "outputs": [],
   "source": [
    "# This function expects a Shapely Point geometry and Buffer radius as input.\n",
    "def randPoint(pt, buff):\n",
    "    \n",
    "    # Determine radius as the buffer multiplied by a random decimal value between 0 and 1\n",
    "    r = buff * random.random()\n",
    "    \n",
    "    # Generate a random angle (in radians)\n",
    "    theta = math.degrees(random.random() * 2 * math.pi)\n",
    "    \n",
    "    # The random longitude and latitude can then be calculated\n",
    "    long_rand = pt.x + r * math.cos(theta)\n",
    "    lat_rand = pt.y + r * math.sin(theta)\n",
    "    \n",
    "    # Return the random Point geometry\n",
    "    return Point(long_rand, lat_rand)"
   ]
  },
  {
   "cell_type": "markdown",
   "id": "a6e7c06e",
   "metadata": {},
   "source": [
    "Next, we will loop through our known trip origins and generate a new point using our function."
   ]
  },
  {
   "cell_type": "code",
   "execution_count": null,
   "id": "5b497e88",
   "metadata": {
    "scrolled": true
   },
   "outputs": [],
   "source": [
    "# copy our original points to a new GeoDataFrame and reproject to Spherical Mercator (units: meters)\n",
    "trip_origins_geo_m = trip_origins_geo.copy()\n",
    "trip_origins_geo_m.geometry = trip_origins_geo_m.geometry.to_crs(epsg=3857)\n",
    "\n",
    "# Loop through each point\n",
    "for i, row in trip_origins_geo_m.iterrows():\n",
    "    \n",
    "    # Generate a random point given the geometry of our original point and our buffer (meters)\n",
    "    randpt = randPoint(gpd.GeoSeries(row.geometry), buffer)\n",
    "    \n",
    "    # Create a geodataframe from that new geometry and reproject back to WGS84 (units: degrees)\n",
    "    randgpd = gpd.GeoDataFrame(geometry=[randpt], crs=\"EPSG:3857\").to_crs(epsg=4326)\n",
    "\n",
    "    # Get the geometry as JSON\n",
    "    geo_j = randgpd.geometry.to_json()\n",
    "    \n",
    "    # Massage our json object into a GeoJSON object that folium needs\n",
    "    folium_j = folium.GeoJson(data=geo_j)\n",
    "    \n",
    "    # Add the object to the map\n",
    "    folium_j.add_to(map)\n",
    "\n",
    "#View Map\n",
    "map\n",
    "\n"
   ]
  },
  {
   "cell_type": "markdown",
   "id": "1acbe514",
   "metadata": {},
   "source": [
    "The map above (after running the code in the cell) shows our original point geometries (trip origins), our buffers, and our new randomized points that are guranteed to be a maximum of *buffer distance* away from the actual trip origin.\n",
    "\n",
    "While this is good, we can make it even more private, by setting a minimum distance from the actual location as well.  This ensures that the randomized location is never the same as the actual location.  To do this create a new minimum radius variable, e.g. `minrad = 10` and then change the `randomPoint` function slightly.  First add a third input parameter for the minimum radius, then change the line:\n",
    "\n",
    "`r = buff * random.random()`\n",
    "\n",
    "to\n",
    "\n",
    "`r = (buff-minbuff) * random.random() + minbuff`"
   ]
  },
  {
   "cell_type": "markdown",
   "id": "c7dfce51",
   "metadata": {},
   "source": [
    "## Randomized Buffers\n",
    "\n",
    "Our last step in this geomasking example is to generate randomized buffers instead of randomized points.  While arguably not more private than the points, it is a more *truthful* representation of the data location as the actual trip origin is guaranteed to exist within the circle geometry.  \n",
    "\n",
    "We will start with a blank map again."
   ]
  },
  {
   "cell_type": "code",
   "execution_count": null,
   "id": "c8f162fa",
   "metadata": {
    "scrolled": true
   },
   "outputs": [],
   "source": [
    "map = folium.Map(location=[50.84, 4.39],\n",
    "           zoom_start=13,\n",
    "           tiles='CartoDB positron')\n",
    "\n",
    "map"
   ]
  },
  {
   "cell_type": "markdown",
   "id": "46e2b8c8",
   "metadata": {},
   "source": [
    "Then we will add our original trip origin point geometries."
   ]
  },
  {
   "cell_type": "code",
   "execution_count": null,
   "id": "98dda2ea",
   "metadata": {
    "scrolled": true
   },
   "outputs": [],
   "source": [
    "for i, row in trip_origins_geo.iterrows():\n",
    "    geo_j = gpd.GeoSeries(row.geometry).to_json()\n",
    "    folium_j = folium.GeoJson(data=geo_j)\n",
    "    folium_j.add_to(map)\n",
    "\n",
    "map"
   ]
  },
  {
   "cell_type": "markdown",
   "id": "b82059b4",
   "metadata": {},
   "source": [
    "Next we generate random points around the known points, and buffer those to generate circle polygons around the randomized centers.  If you get an error after running those code, it is likely that you need to add a third `minbuff` parameter when calling your function."
   ]
  },
  {
   "cell_type": "code",
   "execution_count": null,
   "id": "7759f2b2",
   "metadata": {
    "scrolled": true
   },
   "outputs": [],
   "source": [
    "# Make a copy of our original data and reproject to Spherical Mercator (units: meters)\n",
    "trip_origins_geo_m = trip_origins_geo.copy()\n",
    "trip_origins_geo_m.geometry = trip_origins_geo_m.geometry.to_crs(epsg=3857)\n",
    "\n",
    "# Loop through all points (rows in our GeoDataFrame)\n",
    "for i, row in trip_origins_geo_m.iterrows():\n",
    "\n",
    "    # Generate a random point\n",
    "    randgeom = randPoint(gpd.GeoSeries(row.geometry), buffer)\n",
    "    \n",
    "    # Generate a GeoDataFrame with that random point geometry\n",
    "    randgpd = gpd.GeoDataFrame(geometry=[randgeom], crs=\"EPSG:3857\")\n",
    "    \n",
    "    # Buffer the random point by the buffer radius and assign to geometry property.\n",
    "    randgpd.geometry = randgpd.geometry.buffer(buffer)\n",
    "    \n",
    "    # Reproject back to WGS84 (units: degrees)\n",
    "    randgpd = randgpd.to_crs(epsg=4326)\n",
    "    \n",
    "    # to JSON\n",
    "    geo_j = randgpd.geometry.to_json()\n",
    "    \n",
    "    # to Folium GeoJSON\n",
    "    foliumgeom = folium.GeoJson(data=geo_j, style_function=lambda x: {\"fillColor\": \"red\"})\n",
    "    \n",
    "    # Add to map\n",
    "    foliumgeom.add_to(map)\n",
    "\n",
    "# View Map\n",
    "map"
   ]
  },
  {
   "cell_type": "markdown",
   "id": "fd7355a2",
   "metadata": {},
   "source": [
    "The map shown above (after running the code in the cell) shows the original point geometries as blue markers and the random circle regions.  Note that the circle regions always contain the original markers which is important for maintaining a useful dataset.  "
   ]
  },
  {
   "cell_type": "markdown",
   "id": "5b91cde7",
   "metadata": {},
   "source": [
    "## The End"
   ]
  }
 ],
 "metadata": {
  "kernelspec": {
   "display_name": "Python 3",
   "language": "python",
   "name": "python3"
  },
  "language_info": {
   "codemirror_mode": {
    "name": "ipython",
    "version": 3
   },
   "file_extension": ".py",
   "mimetype": "text/x-python",
   "name": "python",
   "nbconvert_exporter": "python",
   "pygments_lexer": "ipython3",
   "version": "3.8.10"
  }
 },
 "nbformat": 4,
 "nbformat_minor": 5
}
